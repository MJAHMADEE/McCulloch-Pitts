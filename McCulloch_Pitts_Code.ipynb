{
  "nbformat": 4,
  "nbformat_minor": 0,
  "metadata": {
    "colab": {
      "provenance": []
    },
    "kernelspec": {
      "name": "python3",
      "display_name": "Python 3"
    },
    "language_info": {
      "name": "python"
    }
  },
  "cells": [
    {
      "cell_type": "code",
      "source": [
        "class McCullochPittsNeuron:\n",
        "    def __init__(self, weights, threshold, bias=0):\n",
        "        self.weights = weights\n",
        "        self.bias = bias\n",
        "        self.threshold = threshold\n",
        "\n",
        "    def fire(self, inputs):\n",
        "        weighted_sum = sum(w * x for w, x in zip(self.weights, inputs)) + self.bias\n",
        "        if weighted_sum >= self.threshold:\n",
        "            return 1\n",
        "        else:\n",
        "            return 0\n",
        "\n",
        "class ThreeInputThreeOutputNetwork:\n",
        "    def __init__(self):\n",
        "        self.neuron_D = McCullochPittsNeuron([1, 1, -1], 1)\n",
        "        self.neuron_F1 = McCullochPittsNeuron([-1, 1], 1)\n",
        "        self.neuron_F = McCullochPittsNeuron([1, -1], 1)\n",
        "\n",
        "    def predict(self, inputs):\n",
        "        A, B, C = inputs\n",
        "        D = self.neuron_D.fire([A, B, C])\n",
        "        E_inputs = [A, C]\n",
        "        E = self.neuron_D.fire(E_inputs)\n",
        "        F1 = self.neuron_F1.fire([B, C])\n",
        "        F_inputs = [A, F1]\n",
        "        F = self.neuron_F.fire(F_inputs)\n",
        "        return D, E, F\n",
        "\n",
        "# Test the network for all possible input states\n",
        "network = ThreeInputThreeOutputNetwork()\n",
        "\n",
        "for A in range(2):\n",
        "    for B in range(2):\n",
        "        for C in range(2):\n",
        "            D, E, F = network.predict([A, B, C])\n",
        "            print(f\"Input: ({A}, {B}, {C}) --> Output: ({D}, {E}, {F})\")"
      ],
      "metadata": {
        "colab": {
          "base_uri": "https://localhost:8080/"
        },
        "id": "nGkWJuP2PEen",
        "outputId": "a7763371-9d62-4d10-fefb-e48f5c878aca"
      },
      "execution_count": 1,
      "outputs": [
        {
          "output_type": "stream",
          "name": "stdout",
          "text": [
            "Input: (0, 0, 0) --> Output: (0, 0, 0)\n",
            "Input: (0, 0, 1) --> Output: (0, 1, 0)\n",
            "Input: (0, 1, 0) --> Output: (1, 0, 0)\n",
            "Input: (0, 1, 1) --> Output: (0, 1, 0)\n",
            "Input: (1, 0, 0) --> Output: (1, 1, 1)\n",
            "Input: (1, 0, 1) --> Output: (0, 1, 0)\n",
            "Input: (1, 1, 0) --> Output: (1, 1, 1)\n",
            "Input: (1, 1, 1) --> Output: (1, 1, 1)\n"
          ]
        }
      ]
    },
    {
      "cell_type": "code",
      "source": [
        "class McCullochPittsNeuron:\n",
        "    def __init__(self, weights, threshold, bias=0):\n",
        "        self.weights = weights\n",
        "        self.bias = bias\n",
        "        self.threshold = threshold\n",
        "\n",
        "    def fire(self, inputs):\n",
        "        weighted_sum = sum(w * x for w, x in zip(self.weights, inputs)) + self.bias\n",
        "        if weighted_sum >= self.threshold:\n",
        "            return 1\n",
        "        else:\n",
        "            return 0\n",
        "\n",
        "class ThreeInputThreeOutputNetwork:\n",
        "    def __init__(self):\n",
        "        self.neuron_D = McCullochPittsNeuron([1, 1, -1], 1)\n",
        "        self.neuron_F1 = McCullochPittsNeuron([-1, 1], 1)\n",
        "        self.neuron_E = McCullochPittsNeuron([1, 1], 1)\n",
        "        self.neuron_F = McCullochPittsNeuron([1, -1], 1)\n",
        "\n",
        "    def predict(self, inputs):\n",
        "        A, B, C = inputs\n",
        "        D = self.neuron_D.fire([A, B, C])\n",
        "        E_inputs = [A, C]\n",
        "        E = self.neuron_E.fire(E_inputs)\n",
        "        F1 = self.neuron_F1.fire([B, C])\n",
        "        F_inputs = [A, F1]\n",
        "        F = self.neuron_F.fire(F_inputs)\n",
        "        return D, E, F\n",
        "\n",
        "# Test the network for all possible input states\n",
        "network = ThreeInputThreeOutputNetwork()\n",
        "\n",
        "for A in range(2):\n",
        "    for B in range(2):\n",
        "        for C in range(2):\n",
        "            D, E, F = network.predict([A, B, C])\n",
        "            print(f\"Input: ({A}, {B}, {C}) --> Output: ({D}, {E}, {F})\")"
      ],
      "metadata": {
        "colab": {
          "base_uri": "https://localhost:8080/"
        },
        "id": "7Nj8rwWiuiv5",
        "outputId": "3121eec7-cfd8-4a34-8749-cbcb110475e9"
      },
      "execution_count": 7,
      "outputs": [
        {
          "output_type": "stream",
          "name": "stdout",
          "text": [
            "Input: (0, 0, 0) --> Output: (0, 0, 0)\n",
            "Input: (0, 0, 1) --> Output: (0, 1, 0)\n",
            "Input: (0, 1, 0) --> Output: (1, 0, 0)\n",
            "Input: (0, 1, 1) --> Output: (0, 1, 0)\n",
            "Input: (1, 0, 0) --> Output: (1, 1, 1)\n",
            "Input: (1, 0, 1) --> Output: (0, 1, 0)\n",
            "Input: (1, 1, 0) --> Output: (1, 1, 1)\n",
            "Input: (1, 1, 1) --> Output: (1, 1, 1)\n"
          ]
        }
      ]
    },
    {
      "cell_type": "code",
      "source": [
        "0# Test the network with initial state A=0, B=0\n",
        "network = ThreeInputThreeOutputNetwork()\n",
        "\n",
        "# Define the initial state\n",
        "A, B = 0, 0\n",
        "\n",
        "while True:\n",
        "    # Get the input C\n",
        "    C = int(input(\"Enter input C (0 or 1): \"))\n",
        "\n",
        "    # Get the next state and acceptance\n",
        "    D, E, F = network.predict([A, B, C])\n",
        "\n",
        "    # Print the output\n",
        "    print(f\"Current state: ({A}, {B}), Input: {C} --> Next state: ({D}, {E}), Acceptance: {F}\")\n",
        "\n",
        "    # Update the current state\n",
        "    A, B = D, E\n",
        "\n",
        "    # Check if the acceptance is 1, and break the loop if it is\n",
        "    if F == 1:\n",
        "        print(\"Acceptance reached!\")\n",
        "        break"
      ],
      "metadata": {
        "colab": {
          "base_uri": "https://localhost:8080/"
        },
        "id": "TO1VonmYD2k9",
        "outputId": "8a512950-1b6f-415e-8343-06ffeae4996a"
      },
      "execution_count": 9,
      "outputs": [
        {
          "output_type": "stream",
          "name": "stdout",
          "text": [
            "Enter input C (0 or 1): 0\n",
            "Current state: (0, 0), Input: 0 --> Next state: (0, 0), Acceptance: 0\n",
            "Enter input C (0 or 1): 1\n",
            "Current state: (0, 0), Input: 1 --> Next state: (0, 1), Acceptance: 0\n",
            "Enter input C (0 or 1): 1\n",
            "Current state: (0, 1), Input: 1 --> Next state: (0, 1), Acceptance: 0\n",
            "Enter input C (0 or 1): 0\n",
            "Current state: (0, 1), Input: 0 --> Next state: (1, 0), Acceptance: 0\n",
            "Enter input C (0 or 1): 0\n",
            "Current state: (1, 0), Input: 0 --> Next state: (1, 1), Acceptance: 1\n",
            "Acceptance reached!\n"
          ]
        }
      ]
    },
    {
      "cell_type": "code",
      "source": [
        "# Test the network with initial state A=0, B=0\n",
        "network = ThreeInputThreeOutputNetwork()\n",
        "\n",
        "# Define the initial state\n",
        "A, B = 0, 0\n",
        "\n",
        "while True:\n",
        "    # Get the input C\n",
        "    C = int(input(\"Enter input C (0 or 1): \"))\n",
        "\n",
        "    # Get the next state and acceptance\n",
        "    D, E, F = network.predict([A, B, C])\n",
        "\n",
        "    # Print the output\n",
        "    print(f\"Current state: ({A}, {B}), Input: {C} --> Next state: ({D}, {E}), Acceptance: {F}\")\n",
        "\n",
        "    # Update the current state\n",
        "    A, B = D, E\n",
        "\n",
        "    # Check if the acceptance is 1, and break the loop if it is\n",
        "    if F == 1:\n",
        "        print(\"Acceptance reached!\")\n",
        "        break"
      ],
      "metadata": {
        "colab": {
          "base_uri": "https://localhost:8080/"
        },
        "id": "opMa0jHP6MO-",
        "outputId": "e1443bfe-d936-46de-9e42-9551f7d129fe"
      },
      "execution_count": null,
      "outputs": [
        {
          "output_type": "stream",
          "name": "stdout",
          "text": [
            "Enter input C (0 or 1): 0\n",
            "Current state: (0, 0), Input: 0 --> Next state: (0, 0), Acceptance: 0\n",
            "Enter input C (0 or 1): 1\n",
            "Current state: (0, 0), Input: 1 --> Next state: (0, 1), Acceptance: 0\n",
            "Enter input C (0 or 1): 1\n",
            "Current state: (0, 1), Input: 1 --> Next state: (0, 1), Acceptance: 0\n",
            "Enter input C (0 or 1): 0\n",
            "Current state: (0, 1), Input: 0 --> Next state: (1, 0), Acceptance: 0\n",
            "Enter input C (0 or 1): 0\n",
            "Current state: (1, 0), Input: 0 --> Next state: (1, 1), Acceptance: 1\n",
            "Acceptance reached!\n"
          ]
        }
      ]
    },
    {
      "cell_type": "code",
      "source": [
        "# Take input from user\n",
        "current_state = [int(x) for x in input(\"Enter current state A,B (separated by comma): \").split(',')]\n",
        "C = int(input(\"Enter input C: \"))\n",
        "next_state = current_state.copy()\n",
        "\n",
        "# Test the network for the given input\n",
        "network = ThreeInputThreeOutputNetwork()\n",
        "\n",
        "# Flag variable to track if F=1 has occurred previously or not\n",
        "f_occurred = False\n",
        "\n",
        "while True:\n",
        "    D, E, F = network.predict([current_state[0], current_state[1], C])\n",
        "    next_state[0], next_state[1] = D, E\n",
        "    if F == 1 and not f_occurred:\n",
        "        f_occurred = True\n",
        "    else:\n",
        "        current_state = next_state.copy()\n",
        "        C = int(input(\"Enter input C: \"))\n",
        "    \n",
        "    # Print output only if F=1 has occurred previously or F is not equal to 1\n",
        "    if f_occurred or F != 1:\n",
        "        print(f\"Current State: ({current_state[0]}, {current_state[1]}) --> Input: {C} --> Next State: ({next_state[0]}, {next_state[1]}) --> Acceptance: {F}\")\n",
        "\n",
        "    if f_occurred:\n",
        "        break\n",
        "\n",
        "# Print the final output\n",
        "print(f\"Current State: ({current_state[0]}, {current_state[1]}) --> Input: {C} --> Next State: ({next_state[0]}, {next_state[1]}) --> Acceptance: {F}\")\n"
      ],
      "metadata": {
        "colab": {
          "base_uri": "https://localhost:8080/"
        },
        "id": "M6pr3JTVZjpL",
        "outputId": "5034a3c9-0cda-42f1-da71-96ec62797590"
      },
      "execution_count": 5,
      "outputs": [
        {
          "output_type": "stream",
          "name": "stdout",
          "text": [
            "Enter current state A,B (separated by comma): 1,1\n",
            "Enter input C: 0\n",
            "Current State: (1, 1) --> Input: 0 --> Next State: (1, 1) --> Acceptance: 1\n",
            "Current State: (1, 1) --> Input: 0 --> Next State: (1, 1) --> Acceptance: 1\n"
          ]
        }
      ]
    },
    {
      "cell_type": "code",
      "source": [
        "# Take input from user\n",
        "current_state = [int(x) for x in input(\"Enter current state A,B (separated by comma): \").split(',')]\n",
        "C = int(input(\"Enter input C: \"))\n",
        "next_state = current_state.copy()\n",
        "\n",
        "# Test the network for the given input\n",
        "network = ThreeInputThreeOutputNetwork()\n",
        "\n",
        "while True:\n",
        "    D, E, F = network.predict([current_state[0], current_state[1], C])\n",
        "    next_state[0], next_state[1] = D, E\n",
        "    if F == 1:\n",
        "        break\n",
        "    current_state = next_state.copy()\n",
        "    C = int(input(\"Enter input C: \"))\n",
        "    \n",
        "# Print the final output\n",
        "print(f\"Current State: ({current_state[0]}, {current_state[1]}) --> Input: {C} --> Next State: ({next_state[0]}, {next_state[1]}) --> Acceptance: {F}\")\n"
      ],
      "metadata": {
        "colab": {
          "base_uri": "https://localhost:8080/"
        },
        "id": "VgkET04r7dhS",
        "outputId": "7d98f1af-6856-44b1-b40b-1ea5076ff9a6"
      },
      "execution_count": 10,
      "outputs": [
        {
          "output_type": "stream",
          "name": "stdout",
          "text": [
            "Enter current state A,B (separated by comma): 0,0\n",
            "Enter input C: 0\n",
            "Enter input C: 1\n",
            "Enter input C: 1\n",
            "Enter input C: 0\n",
            "Enter input C: 0\n",
            "Current State: (1, 0) --> Input: 0 --> Next State: (1, 1) --> Acceptance: 1\n"
          ]
        }
      ]
    },
    {
      "cell_type": "code",
      "source": [
        "# Take input from user\n",
        "current_state = [int(x) for x in input(\"Enter current state A,B (separated by comma): \").split(',')]\n",
        "C = int(input(\"Enter input C: \"))\n",
        "next_state = current_state.copy()\n",
        "\n",
        "# Test the network for the given input\n",
        "network = ThreeInputThreeOutputNetwork()\n",
        "\n",
        "# Flag variable to track if F=1 has occurred previously or not\n",
        "f_occurred = False\n",
        "\n",
        "while True:\n",
        "    D, E, F = network.predict([current_state[0], current_state[1], C])\n",
        "    next_state[0], next_state[1] = D, E\n",
        "    if F == 1 and not f_occurred:\n",
        "        f_occurred = True\n",
        "    else:\n",
        "        current_state = next_state.copy()\n",
        "        C = int(input(\"Enter input C: \"))\n",
        "    \n",
        "    # Print output only if F=1 has occurred previously or F is not equal to 1\n",
        "    if f_occurred or F != 1:\n",
        "        print(f\"Current State: ({current_state[0]}, {current_state[1]}) --> Input: {C} --> Next State: ({next_state[0]}, {next_state[1]}) --> Acceptance: {F}\")\n",
        "\n",
        "    if f_occurred:\n",
        "        break\n",
        "\n",
        "# Print the final output\n",
        "print(f\"Current State: ({current_state[0]}, {current_state[1]}) --> Input: {C} --> Next State: ({next_state[0]}, {next_state[1]}) --> Acceptance: {F}\")\n"
      ],
      "metadata": {
        "colab": {
          "base_uri": "https://localhost:8080/"
        },
        "id": "YeGHWv3yZfi9",
        "outputId": "ca86bf0c-9adf-4fa5-d911-e44157f57da4"
      },
      "execution_count": 6,
      "outputs": [
        {
          "output_type": "stream",
          "name": "stdout",
          "text": [
            "Enter current state A,B (separated by comma): 1,0\n",
            "Enter input C: 0\n",
            "Current State: (1, 0) --> Input: 0 --> Next State: (1, 1) --> Acceptance: 1\n",
            "Current State: (1, 0) --> Input: 0 --> Next State: (1, 1) --> Acceptance: 1\n"
          ]
        }
      ]
    },
    {
      "cell_type": "markdown",
      "source": [
        "# Other Try (may wrong!)"
      ],
      "metadata": {
        "id": "ajOi79NLD_yj"
      }
    },
    {
      "cell_type": "code",
      "source": [
        "class McCullochPittsNeuron:\n",
        "    def __init__(self, weights, threshold, bias=0):\n",
        "        self.weights = weights\n",
        "        self.bias = bias\n",
        "        self.threshold = threshold\n",
        "\n",
        "    def fire(self, inputs):\n",
        "        weighted_sum = sum(w * x for w, x in zip(self.weights, inputs)) + self.bias\n",
        "        if weighted_sum >= self.threshold:\n",
        "            return 1\n",
        "        else:\n",
        "            return 0\n",
        "\n",
        "class ThreeInputThreeOutputNetwork:\n",
        "    def __init__(self):\n",
        "        self.neuron_D = McCullochPittsNeuron([1, 1, -1], 1)\n",
        "        self.neuron_F1 = McCullochPittsNeuron([1, -1], 1)\n",
        "        self.neuron_F = McCullochPittsNeuron([1, 1], 1)\n",
        "\n",
        "    def predict(self, inputs):\n",
        "        A, B, C = inputs\n",
        "        D = self.neuron_D.fire([A, B, C])\n",
        "        E_inputs = [A, C]\n",
        "        E = self.neuron_F.fire(E_inputs)\n",
        "        F1 = self.neuron_F1.fire([A, C])\n",
        "        F_inputs = [A, F1]\n",
        "        F = self.neuron_F.fire(F_inputs)\n",
        "        return D, E, F\n",
        "\n",
        "# Test the network for all possible input states\n",
        "network = ThreeInputThreeOutputNetwork()\n",
        "\n",
        "for A in range(2):\n",
        "    for B in range(2):\n",
        "        for C in range(2):\n",
        "            D, E, F = network.predict([A, B, C])\n",
        "            print(f\"Input: ({A}, {B}, {C}) --> Output: ({D}, {E}, {F})\")"
      ],
      "metadata": {
        "colab": {
          "base_uri": "https://localhost:8080/"
        },
        "id": "DQyXLIAs3oX_",
        "outputId": "b7f1992f-9c22-458f-b0ce-d67e46d49d1b"
      },
      "execution_count": null,
      "outputs": [
        {
          "output_type": "stream",
          "name": "stdout",
          "text": [
            "Input: (0, 0, 0) --> Output: (0, 0, 0)\n",
            "Input: (0, 0, 1) --> Output: (0, 1, 0)\n",
            "Input: (0, 1, 0) --> Output: (1, 0, 0)\n",
            "Input: (0, 1, 1) --> Output: (0, 1, 0)\n",
            "Input: (1, 0, 0) --> Output: (1, 1, 1)\n",
            "Input: (1, 0, 1) --> Output: (0, 1, 1)\n",
            "Input: (1, 1, 0) --> Output: (1, 1, 1)\n",
            "Input: (1, 1, 1) --> Output: (1, 1, 1)\n"
          ]
        }
      ]
    },
    {
      "cell_type": "code",
      "source": [
        "class McCullochPittsNeuron:\n",
        "    def __init__(self, weights, threshold, bias=0):\n",
        "        self.weights = weights\n",
        "        self.bias = bias\n",
        "        self.threshold = threshold\n",
        "\n",
        "    def fire(self, inputs):\n",
        "        weighted_sum = sum(w * x for w, x in zip(self.weights, inputs)) + self.bias\n",
        "        if weighted_sum >= self.threshold:\n",
        "            return 1\n",
        "        else:\n",
        "            return 0\n",
        "\n",
        "\n",
        "class ThreeInputThreeOutputNetwork:\n",
        "    def __init__(self):\n",
        "        self.neuron_D = McCullochPittsNeuron([1, 1, -1], 1)\n",
        "        self.neuron_E = McCullochPittsNeuron([1, 0, 1], 1)\n",
        "        self.neuron_F1 = McCullochPittsNeuron([1, 0], 1)\n",
        "        self.neuron_F2 = McCullochPittsNeuron([1, -1], 1)\n",
        "        self.neuron_F = McCullochPittsNeuron([1, 1], 1)\n",
        "\n",
        "    def predict(self, inputs):\n",
        "        A, B, C = inputs\n",
        "        D = self.neuron_D.fire([A, B, C])\n",
        "        E = self.neuron_E.fire([A, B, C])\n",
        "        F1 = self.neuron_F1.fire([A, B])\n",
        "        F2 = self.neuron_F2.fire([A, C])\n",
        "        F_inputs = [F1, F2]\n",
        "        F = self.neuron_F.fire(F_inputs)\n",
        "        return D, E, F\n",
        "\n",
        "\n",
        "# Test the network for all possible input states\n",
        "network = ThreeInputThreeOutputNetwork()\n",
        "\n",
        "for A in range(2):\n",
        "    for B in range(2):\n",
        "        for C in range(2):\n",
        "            D, E, F = network.predict([A, B, C])\n",
        "            print(f\"Input: ({A}, {B}, {C}) --> Output: ({D}, {E}, {F})\")\n"
      ],
      "metadata": {
        "colab": {
          "base_uri": "https://localhost:8080/"
        },
        "id": "6Nk4S5DrfIrw",
        "outputId": "e7566854-2373-4258-cc09-9910255d2618"
      },
      "execution_count": 7,
      "outputs": [
        {
          "output_type": "stream",
          "name": "stdout",
          "text": [
            "Input: (0, 0, 0) --> Output: (0, 0, 0)\n",
            "Input: (0, 0, 1) --> Output: (0, 1, 0)\n",
            "Input: (0, 1, 0) --> Output: (1, 0, 0)\n",
            "Input: (0, 1, 1) --> Output: (0, 1, 0)\n",
            "Input: (1, 0, 0) --> Output: (1, 1, 1)\n",
            "Input: (1, 0, 1) --> Output: (0, 1, 1)\n",
            "Input: (1, 1, 0) --> Output: (1, 1, 1)\n",
            "Input: (1, 1, 1) --> Output: (1, 1, 1)\n"
          ]
        }
      ]
    },
    {
      "cell_type": "code",
      "source": [
        "class McCullochPittsNeuron:\n",
        "    def __init__(self, weights, threshold, bias=0):\n",
        "        self.weights = weights\n",
        "        self.bias = bias\n",
        "        self.threshold = threshold\n",
        "\n",
        "    def fire(self, inputs):\n",
        "        weighted_sum = sum(w * x for w, x in zip(self.weights, inputs)) + self.bias\n",
        "        if weighted_sum >= self.threshold:\n",
        "            return 1\n",
        "        else:\n",
        "            return 0\n",
        "\n",
        "\n",
        "class ThreeInputThreeOutputNetwork:\n",
        "    def __init__(self):\n",
        "        self.neuron_D = McCullochPittsNeuron([1, 1, -1], 1)\n",
        "        self.neuron_E = McCullochPittsNeuron([1, 0, 1], 1)\n",
        "        self.neuron_F1 = McCullochPittsNeuron([1, 0], 1)\n",
        "        self.neuron_F2 = McCullochPittsNeuron([1, -1], 1)\n",
        "\n",
        "    def predict(self, inputs):\n",
        "        A, B, C = inputs\n",
        "        D = self.neuron_D.fire([A, B, C])\n",
        "        E = self.neuron_E.fire([A, B, C])\n",
        "        F1 = self.neuron_F1.fire([A, B])\n",
        "        F2 = self.neuron_F2.fire([A, C])\n",
        "        F = F1 or F2\n",
        "        return D, E, F\n",
        "\n",
        "\n",
        "# Test the network for all possible input states\n",
        "network = ThreeInputThreeOutputNetwork()\n",
        "\n",
        "for A in range(2):\n",
        "    for B in range(2):\n",
        "        for C in range(2):\n",
        "            D, E, F = network.predict([A, B, C])\n",
        "            print(f\"Input: ({A}, {B}, {C}) --> Output: ({D}, {E}, {F})\")\n"
      ],
      "metadata": {
        "colab": {
          "base_uri": "https://localhost:8080/"
        },
        "id": "OguNM5i6WZyr",
        "outputId": "aa4b44af-24c8-48c5-9ffc-c7a5d617a2f8"
      },
      "execution_count": null,
      "outputs": [
        {
          "output_type": "stream",
          "name": "stdout",
          "text": [
            "Input: (0, 0, 0) --> Output: (0, 0, 0)\n",
            "Input: (0, 0, 1) --> Output: (0, 1, 0)\n",
            "Input: (0, 1, 0) --> Output: (1, 0, 0)\n",
            "Input: (0, 1, 1) --> Output: (0, 1, 0)\n",
            "Input: (1, 0, 0) --> Output: (1, 1, 1)\n",
            "Input: (1, 0, 1) --> Output: (0, 1, 1)\n",
            "Input: (1, 1, 0) --> Output: (1, 1, 1)\n",
            "Input: (1, 1, 1) --> Output: (1, 1, 1)\n"
          ]
        }
      ]
    },
    {
      "cell_type": "code",
      "execution_count": null,
      "metadata": {
        "colab": {
          "base_uri": "https://localhost:8080/"
        },
        "id": "VkcK1_n6ru3o",
        "outputId": "fe27db08-a124-4928-9976-79089b654b26"
      },
      "outputs": [
        {
          "output_type": "stream",
          "name": "stdout",
          "text": [
            "Input: (0, 0, 0) --> Output: (0, 0, 0)\n",
            "Input: (0, 0, 1) --> Output: (0, 1, 0)\n",
            "Input: (0, 1, 0) --> Output: (1, 0, 0)\n",
            "Input: (0, 1, 1) --> Output: (0, 1, 0)\n",
            "Input: (1, 0, 0) --> Output: (1, 1, 1)\n",
            "Input: (1, 0, 1) --> Output: (0, 1, 1)\n",
            "Input: (1, 1, 0) --> Output: (1, 1, 1)\n",
            "Input: (1, 1, 1) --> Output: (1, 1, 1)\n"
          ]
        }
      ],
      "source": [
        "class McCullochPittsNeuron:\n",
        "    def __init__(self, weights, threshold):\n",
        "        self.weights = weights\n",
        "        self.threshold = threshold\n",
        "\n",
        "    def fire(self, inputs):\n",
        "        weighted_sum = sum(w * x for w, x in zip(self.weights, inputs))\n",
        "        if weighted_sum >= self.threshold:\n",
        "            return 1\n",
        "        else:\n",
        "            return 0\n",
        "\n",
        "\n",
        "class ThreeInputThreeOutputNetwork:\n",
        "    def __init__(self):\n",
        "        self.neuron_D = McCullochPittsNeuron([1, 1, -1], 1) # (A+B)C' + AB\n",
        "        self.neuron_E = McCullochPittsNeuron([1, 0, 1], 1) # A + C\n",
        "        self.neuron_F1 = McCullochPittsNeuron([1, 0], 1) # A\n",
        "        self.neuron_F2 = McCullochPittsNeuron([1, -1], 1) # A'C + AB\n",
        "\n",
        "    def predict(self, inputs):\n",
        "        A, B, C = inputs\n",
        "        D = self.neuron_D.fire([A, B, C])\n",
        "        E = self.neuron_E.fire([A, B, C])\n",
        "        F1 = self.neuron_F1.fire([A, B])\n",
        "        F2 = self.neuron_F2.fire([A, C])\n",
        "        F = F1 or F2\n",
        "        return D, E, F\n",
        "\n",
        "\n",
        "# Test the network for all possible input states\n",
        "network = ThreeInputThreeOutputNetwork()\n",
        "\n",
        "for A in range(2):\n",
        "    for B in range(2):\n",
        "        for C in range(2):\n",
        "            D, E, F = network.predict([A, B, C])\n",
        "            print(f\"Input: ({A}, {B}, {C}) --> Output: ({D}, {E}, {F})\")\n"
      ]
    },
    {
      "cell_type": "code",
      "source": [
        "import networkx as nx\n",
        "import matplotlib.pyplot as plt\n",
        "\n",
        "# Create a directed graph\n",
        "G = nx.DiGraph()\n",
        "\n",
        "# Add nodes for inputs, neurons, and outputs\n",
        "G.add_nodes_from(['A', 'B', 'C', 'Neuron_D', 'Neuron_E', 'Neuron_F1', 'Neuron_F2', 'D', 'E', 'F'])\n",
        "\n",
        "# Add edges to represent connections between nodes\n",
        "G.add_edges_from([('A', 'Neuron_D'), ('B', 'Neuron_D'), ('C', 'Neuron_D')])\n",
        "G.add_edges_from([('A', 'Neuron_F1'), ('B', 'Neuron_F1'), ('C', 'Neuron_F1')])\n",
        "G.add_edges_from([('A', 'Neuron_F2'), ('B', 'Neuron_F2'), ('C', 'Neuron_F2')])\n",
        "G.add_edges_from([('Neuron_D', 'D')])\n",
        "G.add_edges_from([('Neuron_E', 'E')])\n",
        "G.add_edges_from([('Neuron_F1', 'F')])\n",
        "G.add_edges_from([('Neuron_F2', 'F')])\n",
        "\n",
        "# Set positions for the nodes\n",
        "pos = {'A': (0, 2), 'B': (0, 1), 'C': (0, 0), 'Neuron_D': (1, 1.5), 'Neuron_E': (1, 0.5), 'Neuron_F1': (2, 1), 'Neuron_F2': (2, 0), 'D': (3, 1.5), 'E': (3, 0.5), 'F': (4, 1)}\n",
        "\n",
        "# Draw the graph\n",
        "nx.draw(G, pos, with_labels=True)\n",
        "\n",
        "# Save the plot as a PDF file\n",
        "plt.savefig('network_plot.pdf')\n"
      ],
      "metadata": {
        "colab": {
          "base_uri": "https://localhost:8080/",
          "height": 319
        },
        "id": "hYmW-q_swKD8",
        "outputId": "64afea20-973b-4250-f97a-a4a7d6483166"
      },
      "execution_count": null,
      "outputs": [
        {
          "output_type": "display_data",
          "data": {
            "text/plain": [
              "<Figure size 432x288 with 1 Axes>"
            ],
            "image/png": "[encoded data removed]"
          },
          "metadata": {}
        }
      ]
    },
    {
      "cell_type": "code",
      "source": [
        "import networkx as nx\n",
        "import matplotlib.pyplot as plt\n",
        "\n",
        "# Define the network\n",
        "network = ThreeInputThreeOutputNetwork()\n",
        "\n",
        "# Define input, neurons, and output nodes\n",
        "input_nodes = ['A', 'B', 'C']\n",
        "neuron_nodes = ['D', 'E', 'F1', 'F2']\n",
        "output_nodes = ['D', 'E', 'F']\n",
        "\n",
        "# Create a directed graph\n",
        "G = nx.DiGraph()\n",
        "\n",
        "# Add the nodes\n",
        "G.add_nodes_from(input_nodes, color='blue')\n",
        "G.add_nodes_from(neuron_nodes, color='orange')\n",
        "G.add_nodes_from(output_nodes, color='green')\n",
        "\n",
        "# Add the edges with weights\n",
        "G.add_edge('A', 'D', weight=1)\n",
        "G.add_edge('B', 'D', weight=1)\n",
        "G.add_edge('C', 'D', weight=-1)\n",
        "G.add_edge('A', 'E', weight=1)\n",
        "G.add_edge('B', 'E', weight=0)\n",
        "G.add_edge('C', 'E', weight=1)\n",
        "G.add_edge('A', 'F1', weight=1)\n",
        "G.add_edge('B', 'F1', weight=0)\n",
        "G.add_edge('A', 'F2', weight=1)\n",
        "G.add_edge('C', 'F2', weight=-1)\n",
        "G.add_edge('F1', 'F', weight=1)\n",
        "G.add_edge('F2', 'F', weight=1)\n",
        "\n",
        "# Get positions of nodes\n",
        "pos = nx.shell_layout(G, [input_nodes, neuron_nodes, output_nodes])\n",
        "\n",
        "# Draw the nodes and edges\n",
        "nx.draw_networkx_nodes(G, pos, node_color=[G.nodes[n]['color'] for n in G.nodes()])\n",
        "nx.draw_networkx_edges(G, pos, edge_color='gray', width=1, alpha=0.5, arrowsize=20, arrowstyle='->')\n",
        "\n",
        "# Draw the edge weights\n",
        "edge_labels = nx.get_edge_attributes(G, 'weight')\n",
        "nx.draw_networkx_edge_labels(G, pos, edge_labels=edge_labels)\n",
        "\n",
        "# Set the axis off and show the plot\n",
        "plt.axis('off')\n",
        "plt.show()\n"
      ],
      "metadata": {
        "colab": {
          "base_uri": "https://localhost:8080/",
          "height": 248
        },
        "id": "qZgw7tqK4mn2",
        "outputId": "1169344c-ef1c-40ae-aaa3-e3ae0cbe0685"
      },
      "execution_count": null,
      "outputs": [
        {
          "output_type": "display_data",
          "data": {
            "text/plain": [
              "<Figure size 432x288 with 1 Axes>"
            ],
            "image/png": "[encoded data removed]"
          },
          "metadata": {}
        }
      ]
    },
    {
      "cell_type": "code",
      "source": [
        "class McCullochPittsNeuron:\n",
        "    def __init__(self, weights, threshold, bias):\n",
        "        self.weights = weights\n",
        "        self.bias = bias\n",
        "        self.threshold = threshold\n",
        "\n",
        "    def fire(self, inputs):\n",
        "        weighted_sum = sum(w * x for w, x in zip(self.weights, inputs)) + self.bias\n",
        "        if weighted_sum >= self.threshold:\n",
        "            return 1\n",
        "        else:\n",
        "            return 0\n",
        "\n",
        "\n",
        "class ThreeInputThreeOutputNetwork:\n",
        "    def __init__(self):\n",
        "        self.neuron_D1 = McCullochPittsNeuron([1, 1, 0], 0, -2)\n",
        "        self.neuron_D2 = McCullochPittsNeuron([2, 2, -1], 0, -2)\n",
        "        self.neuron_F1 = McCullochPittsNeuron([0, 1, -1], 0, 2)\n",
        "\n",
        "    def predict(self, inputs):\n",
        "        A, B, C = inputs\n",
        "        D1 = self.neuron_D1.fire([A, B, C])\n",
        "        D2 = self.neuron_D2.fire([A, B, C])\n",
        "        D = D1 or D2\n",
        "        E = A or C\n",
        "        F1 = self.neuron_F1.fire([A, B, C])\n",
        "        F = A and F1\n",
        "        return D, E, F\n",
        "\n",
        "\n",
        "# Test the network for all possible input states\n",
        "network = ThreeInputThreeOutputNetwork()\n",
        "\n",
        "for A in range(2):\n",
        "    for B in range(2):\n",
        "        for C in range(2):\n",
        "            D, E, F = network.predict([A, B, C])\n",
        "            print(f\"Input: ({A}, {B}, {C}) --> Output: ({D}, {E}, {F})\")\n"
      ],
      "metadata": {
        "colab": {
          "base_uri": "https://localhost:8080/"
        },
        "id": "GaR5hdT8X1Zk",
        "outputId": "32c66720-9c5f-43f3-94c2-76c2c575f2e1"
      },
      "execution_count": 55,
      "outputs": [
        {
          "output_type": "stream",
          "name": "stdout",
          "text": [
            "Input: (0, 0, 0) --> Output: (0, 0, 0)\n",
            "Input: (0, 0, 1) --> Output: (0, 1, 0)\n",
            "Input: (0, 1, 0) --> Output: (1, 0, 0)\n",
            "Input: (0, 1, 1) --> Output: (0, 1, 0)\n",
            "Input: (1, 0, 0) --> Output: (1, 1, 1)\n",
            "Input: (1, 0, 1) --> Output: (0, 1, 1)\n",
            "Input: (1, 1, 0) --> Output: (1, 1, 1)\n",
            "Input: (1, 1, 1) --> Output: (1, 1, 1)\n"
          ]
        }
      ]
    },
    {
      "cell_type": "code",
      "source": [
        "class McCullochPittsNeuron:\n",
        "    def __init__(self, weights, threshold):\n",
        "        self.weights = weights\n",
        "        self.threshold = threshold\n",
        "\n",
        "    def fire(self, inputs):\n",
        "        weighted_sum = sum(w * x for w, x in zip(self.weights, inputs))\n",
        "        if weighted_sum >= self.threshold:\n",
        "            output = 1\n",
        "        else:\n",
        "            output = 0\n",
        "        print(f\"Inputs: {inputs}, Weights: {self.weights}, Threshold: {self.threshold}, Output: {output}\")\n",
        "        return output\n",
        "\n",
        "\n",
        "class ThreeInputThreeOutputNetwork:\n",
        "    def __init__(self):\n",
        "        self.neuron_D = McCullochPittsNeuron([1, 1, -1], 1) # (A+B)C' + AB\n",
        "        self.neuron_E = McCullochPittsNeuron([1, 0, 1], 1) # A + C\n",
        "        self.neuron_F1 = McCullochPittsNeuron([1, 0], 1) # A\n",
        "        self.neuron_F2 = McCullochPittsNeuron([1, -1], 1) # A'C + AB\n",
        "\n",
        "    def predict(self, inputs):\n",
        "        A, B, C = inputs\n",
        "        D = self.neuron_D.fire([A, B, C])\n",
        "        E = self.neuron_E.fire([A, B, C])\n",
        "        F1 = self.neuron_F1.fire([A, B])\n",
        "        F2 = self.neuron_F2.fire([A, C])\n",
        "        F = F1 or F2\n",
        "        print(f\"Inputs: ({A}, {B}, {C}) --> Outputs: (D:{D}, E:{E}, F1:{F1}, F2:{F2}, F:{F})\")\n",
        "        return D, E, F\n",
        "\n",
        "\n",
        "# Test the network for all possible input states\n",
        "network = ThreeInputThreeOutputNetwork()\n",
        "\n",
        "for A in range(2):\n",
        "    for B in range(2):\n",
        "        for C in range(2):\n",
        "            D, E, F = network.predict([A, B, C])\n",
        "            print(f\"Input: ({A}, {B}, {C}) --> Output: ({D}, {E}, {F})\")\n"
      ],
      "metadata": {
        "colab": {
          "base_uri": "https://localhost:8080/"
        },
        "id": "x7q-12wJ5TLP",
        "outputId": "dd1b355c-7ce9-472f-e609-311a38cde1eb"
      },
      "execution_count": 1,
      "outputs": [
        {
          "output_type": "stream",
          "name": "stdout",
          "text": [
            "Inputs: [0, 0, 0], Weights: [1, 1, -1], Threshold: 1, Output: 0\n",
            "Inputs: [0, 0, 0], Weights: [1, 0, 1], Threshold: 1, Output: 0\n",
            "Inputs: [0, 0], Weights: [1, 0], Threshold: 1, Output: 0\n",
            "Inputs: [0, 0], Weights: [1, -1], Threshold: 1, Output: 0\n",
            "Inputs: (0, 0, 0) --> Outputs: (D:0, E:0, F1:0, F2:0, F:0)\n",
            "Input: (0, 0, 0) --> Output: (0, 0, 0)\n",
            "Inputs: [0, 0, 1], Weights: [1, 1, -1], Threshold: 1, Output: 0\n",
            "Inputs: [0, 0, 1], Weights: [1, 0, 1], Threshold: 1, Output: 1\n",
            "Inputs: [0, 0], Weights: [1, 0], Threshold: 1, Output: 0\n",
            "Inputs: [0, 1], Weights: [1, -1], Threshold: 1, Output: 0\n",
            "Inputs: (0, 0, 1) --> Outputs: (D:0, E:1, F1:0, F2:0, F:0)\n",
            "Input: (0, 0, 1) --> Output: (0, 1, 0)\n",
            "Inputs: [0, 1, 0], Weights: [1, 1, -1], Threshold: 1, Output: 1\n",
            "Inputs: [0, 1, 0], Weights: [1, 0, 1], Threshold: 1, Output: 0\n",
            "Inputs: [0, 1], Weights: [1, 0], Threshold: 1, Output: 0\n",
            "Inputs: [0, 0], Weights: [1, -1], Threshold: 1, Output: 0\n",
            "Inputs: (0, 1, 0) --> Outputs: (D:1, E:0, F1:0, F2:0, F:0)\n",
            "Input: (0, 1, 0) --> Output: (1, 0, 0)\n",
            "Inputs: [0, 1, 1], Weights: [1, 1, -1], Threshold: 1, Output: 0\n",
            "Inputs: [0, 1, 1], Weights: [1, 0, 1], Threshold: 1, Output: 1\n",
            "Inputs: [0, 1], Weights: [1, 0], Threshold: 1, Output: 0\n",
            "Inputs: [0, 1], Weights: [1, -1], Threshold: 1, Output: 0\n",
            "Inputs: (0, 1, 1) --> Outputs: (D:0, E:1, F1:0, F2:0, F:0)\n",
            "Input: (0, 1, 1) --> Output: (0, 1, 0)\n",
            "Inputs: [1, 0, 0], Weights: [1, 1, -1], Threshold: 1, Output: 1\n",
            "Inputs: [1, 0, 0], Weights: [1, 0, 1], Threshold: 1, Output: 1\n",
            "Inputs: [1, 0], Weights: [1, 0], Threshold: 1, Output: 1\n",
            "Inputs: [1, 0], Weights: [1, -1], Threshold: 1, Output: 1\n",
            "Inputs: (1, 0, 0) --> Outputs: (D:1, E:1, F1:1, F2:1, F:1)\n",
            "Input: (1, 0, 0) --> Output: (1, 1, 1)\n",
            "Inputs: [1, 0, 1], Weights: [1, 1, -1], Threshold: 1, Output: 0\n",
            "Inputs: [1, 0, 1], Weights: [1, 0, 1], Threshold: 1, Output: 1\n",
            "Inputs: [1, 0], Weights: [1, 0], Threshold: 1, Output: 1\n",
            "Inputs: [1, 1], Weights: [1, -1], Threshold: 1, Output: 0\n",
            "Inputs: (1, 0, 1) --> Outputs: (D:0, E:1, F1:1, F2:0, F:1)\n",
            "Input: (1, 0, 1) --> Output: (0, 1, 1)\n",
            "Inputs: [1, 1, 0], Weights: [1, 1, -1], Threshold: 1, Output: 1\n",
            "Inputs: [1, 1, 0], Weights: [1, 0, 1], Threshold: 1, Output: 1\n",
            "Inputs: [1, 1], Weights: [1, 0], Threshold: 1, Output: 1\n",
            "Inputs: [1, 0], Weights: [1, -1], Threshold: 1, Output: 1\n",
            "Inputs: (1, 1, 0) --> Outputs: (D:1, E:1, F1:1, F2:1, F:1)\n",
            "Input: (1, 1, 0) --> Output: (1, 1, 1)\n",
            "Inputs: [1, 1, 1], Weights: [1, 1, -1], Threshold: 1, Output: 1\n",
            "Inputs: [1, 1, 1], Weights: [1, 0, 1], Threshold: 1, Output: 1\n",
            "Inputs: [1, 1], Weights: [1, 0], Threshold: 1, Output: 1\n",
            "Inputs: [1, 1], Weights: [1, -1], Threshold: 1, Output: 0\n",
            "Inputs: (1, 1, 1) --> Outputs: (D:1, E:1, F1:1, F2:0, F:1)\n",
            "Input: (1, 1, 1) --> Output: (1, 1, 1)\n"
          ]
        }
      ]
    },
    {
      "cell_type": "code",
      "source": [
        "class McCullochPittsNeuron:\n",
        "    def __init__(self, weights, threshold):\n",
        "        self.weights = weights\n",
        "        self.threshold = threshold\n",
        "\n",
        "    def fire(self, inputs):\n",
        "        weighted_sum = sum(w * x for w, x in zip(self.weights, inputs))\n",
        "        if weighted_sum >= self.threshold:\n",
        "            return 1\n",
        "        else:\n",
        "            return 0\n",
        "\n",
        "\n",
        "class ThreeInputThreeOutputNetwork:\n",
        "    def __init__(self):\n",
        "        self.neuron_D = McCullochPittsNeuron([1, 1, -1], 1) # (A+B)C' + AB\n",
        "        self.neuron_E = McCullochPittsNeuron([1, 0, 1], 1) # A + C\n",
        "        self.neuron_F1 = McCullochPittsNeuron([1, 0], 1) # A\n",
        "        self.neuron_F2 = McCullochPittsNeuron([1, -1], 1) # A'C + AB\n",
        "\n",
        "    def predict(self, inputs):\n",
        "        A, B, C = inputs\n",
        "        \n",
        "        # Calculate the output of neuron D\n",
        "        weighted_sum_D = sum(w * x for w, x in zip(self.neuron_D.weights, [A, B, C]))\n",
        "        threshold_D = self.neuron_D.threshold\n",
        "        if weighted_sum_D >= threshold_D:\n",
        "            D_output = 1\n",
        "        else:\n",
        "            D_output = 0\n",
        "        \n",
        "        # Calculate the output of neuron E\n",
        "        weighted_sum_E = sum(w * x for w, x in zip(self.neuron_E.weights, [A, B, C]))\n",
        "        threshold_E = self.neuron_E.threshold\n",
        "        if weighted_sum_E >= threshold_E:\n",
        "            E_output = 1\n",
        "        else:\n",
        "            E_output = 0\n",
        "        \n",
        "        # Calculate the output of neuron F1\n",
        "        weighted_sum_F1 = sum(w * x for w, x in zip(self.neuron_F1.weights, [A, B]))\n",
        "        threshold_F1 = self.neuron_F1.threshold\n",
        "        if weighted_sum_F1 >= threshold_F1:\n",
        "            F1_output = 1\n",
        "        else:\n",
        "            F1_output = 0\n",
        "        \n",
        "        # Calculate the output of neuron F2\n",
        "        weighted_sum_F2 = sum(w * x for w, x in zip(self.neuron_F2.weights, [A, C]))\n",
        "        threshold_F2 = self.neuron_F2.threshold\n",
        "        if weighted_sum_F2 >= threshold_F2:\n",
        "            F2_output = 1\n",
        "        else:\n",
        "            F2_output = 0\n",
        "        \n",
        "        # Calculate the final output F using the outputs of F1 and F2\n",
        "        if F1_output == 1 or F2_output == 1:\n",
        "            F_output = 1\n",
        "        else:\n",
        "            F_output = 0\n",
        "        \n",
        "        return D_output, E_output, F_output\n",
        "\n",
        "\n",
        "# Test the network for all possible input states\n",
        "network = ThreeInputThreeOutputNetwork()\n",
        "\n",
        "for A in range(2):\n",
        "    for B in range(2):\n",
        "        for C in range(2):\n",
        "            D, E, F = network.predict([A, B, C])\n",
        "            print(f\"Input: ({A}, {B}, {C}) --> Output: (D: {D}, E: {E}, F: {F})\")\n"
      ],
      "metadata": {
        "colab": {
          "base_uri": "https://localhost:8080/"
        },
        "id": "tOUf33nm5TPq",
        "outputId": "ec938432-5fb8-4ff4-888b-fb17279dc3cf"
      },
      "execution_count": 2,
      "outputs": [
        {
          "output_type": "stream",
          "name": "stdout",
          "text": [
            "Input: (0, 0, 0) --> Output: (D: 0, E: 0, F: 0)\n",
            "Input: (0, 0, 1) --> Output: (D: 0, E: 1, F: 0)\n",
            "Input: (0, 1, 0) --> Output: (D: 1, E: 0, F: 0)\n",
            "Input: (0, 1, 1) --> Output: (D: 0, E: 1, F: 0)\n",
            "Input: (1, 0, 0) --> Output: (D: 1, E: 1, F: 1)\n",
            "Input: (1, 0, 1) --> Output: (D: 0, E: 1, F: 1)\n",
            "Input: (1, 1, 0) --> Output: (D: 1, E: 1, F: 1)\n",
            "Input: (1, 1, 1) --> Output: (D: 1, E: 1, F: 1)\n"
          ]
        }
      ]
    },
    {
      "cell_type": "code",
      "source": [
        "class McCullochPittsNeuron:\n",
        "    def __init__(self, weights, threshold):\n",
        "        self.weights = weights\n",
        "        self.threshold = threshold\n",
        "\n",
        "    def fire(self, inputs):\n",
        "        weighted_sum = sum(w * x for w, x in zip(self.weights, inputs))\n",
        "        if weighted_sum >= self.threshold:\n",
        "            return 1\n",
        "        else:\n",
        "            return 0\n",
        "\n",
        "\n",
        "class ThreeInputThreeOutputNetwork:\n",
        "    def __init__(self):\n",
        "        self.neuron_D = McCullochPittsNeuron([1, 1, -1], 1) # (A+B)C' + AB\n",
        "        self.neuron_E = McCullochPittsNeuron([1, 0, 1], 1) # A + C\n",
        "        self.neuron_F1 = McCullochPittsNeuron([1, 0], 1) # A\n",
        "        self.neuron_F2 = McCullochPittsNeuron([1, -1], 1) # A'C + AB\n",
        "\n",
        "    def predict(self, inputs):\n",
        "        A, B, C = inputs\n",
        "        D = self.neuron_D.fire([A, B, C])\n",
        "        E = self.neuron_E.fire([A, B, C])\n",
        "        F1 = self.neuron_F1.fire([A, B])\n",
        "        F2 = self.neuron_F2.fire([A, C])\n",
        "        F = F1 or F2\n",
        "        return D, E, F\n",
        "\n",
        "\n",
        "# Test the network for all possible input states\n",
        "network = ThreeInputThreeOutputNetwork()\n",
        "\n",
        "for A in range(2):\n",
        "    for B in range(2):\n",
        "        for C in range(2):\n",
        "            D, E, F = network.predict([A, B, C])\n",
        "            print(f\"\\t\\t[A]--(1)-----[D]\\nInput: ({A}, {B}, {C}) -->\\t\\t  |\\n\\t\\t[C]--(1)--[F1]     |   [E]--(1)--[B]\\n\\t\\t\\t     \\\\     |\\n\\t\\t\\t       \\\\(1)--[F2]\")\n",
        "            print(f\"Output: ({D}, {E}, {F})\\n\")\n"
      ],
      "metadata": {
        "colab": {
          "base_uri": "https://localhost:8080/"
        },
        "id": "onGdln3tukjO",
        "outputId": "5b458230-b9d5-4575-aca8-77bab1bca118"
      },
      "execution_count": 23,
      "outputs": [
        {
          "output_type": "stream",
          "name": "stdout",
          "text": [
            "\t\t[A]--(1)-----[D]\n",
            "Input: (0, 0, 0) -->\t\t  |\n",
            "\t\t[C]--(1)--[F1]     |   [E]--(1)--[B]\n",
            "\t\t\t     \\     |\n",
            "\t\t\t       \\(1)--[F2]\n",
            "Output: (0, 0, 0)\n",
            "\n",
            "\t\t[A]--(1)-----[D]\n",
            "Input: (0, 0, 1) -->\t\t  |\n",
            "\t\t[C]--(1)--[F1]     |   [E]--(1)--[B]\n",
            "\t\t\t     \\     |\n",
            "\t\t\t       \\(1)--[F2]\n",
            "Output: (0, 1, 0)\n",
            "\n",
            "\t\t[A]--(1)-----[D]\n",
            "Input: (0, 1, 0) -->\t\t  |\n",
            "\t\t[C]--(1)--[F1]     |   [E]--(1)--[B]\n",
            "\t\t\t     \\     |\n",
            "\t\t\t       \\(1)--[F2]\n",
            "Output: (1, 0, 0)\n",
            "\n",
            "\t\t[A]--(1)-----[D]\n",
            "Input: (0, 1, 1) -->\t\t  |\n",
            "\t\t[C]--(1)--[F1]     |   [E]--(1)--[B]\n",
            "\t\t\t     \\     |\n",
            "\t\t\t       \\(1)--[F2]\n",
            "Output: (0, 1, 0)\n",
            "\n",
            "\t\t[A]--(1)-----[D]\n",
            "Input: (1, 0, 0) -->\t\t  |\n",
            "\t\t[C]--(1)--[F1]     |   [E]--(1)--[B]\n",
            "\t\t\t     \\     |\n",
            "\t\t\t       \\(1)--[F2]\n",
            "Output: (1, 1, 1)\n",
            "\n",
            "\t\t[A]--(1)-----[D]\n",
            "Input: (1, 0, 1) -->\t\t  |\n",
            "\t\t[C]--(1)--[F1]     |   [E]--(1)--[B]\n",
            "\t\t\t     \\     |\n",
            "\t\t\t       \\(1)--[F2]\n",
            "Output: (0, 1, 1)\n",
            "\n",
            "\t\t[A]--(1)-----[D]\n",
            "Input: (1, 1, 0) -->\t\t  |\n",
            "\t\t[C]--(1)--[F1]     |   [E]--(1)--[B]\n",
            "\t\t\t     \\     |\n",
            "\t\t\t       \\(1)--[F2]\n",
            "Output: (1, 1, 1)\n",
            "\n",
            "\t\t[A]--(1)-----[D]\n",
            "Input: (1, 1, 1) -->\t\t  |\n",
            "\t\t[C]--(1)--[F1]     |   [E]--(1)--[B]\n",
            "\t\t\t     \\     |\n",
            "\t\t\t       \\(1)--[F2]\n",
            "Output: (1, 1, 1)\n",
            "\n"
          ]
        }
      ]
    }
  ]
}